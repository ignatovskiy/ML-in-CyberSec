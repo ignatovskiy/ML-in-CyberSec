{
 "cells": [
  {
   "cell_type": "code",
   "execution_count": null,
   "metadata": {},
   "outputs": [],
   "source": [
    "%pip install pandas\n",
    "%pip install requests\n",
    "%pip install bs4\n",
    "%pip install lxml"
   ]
  },
  {
   "cell_type": "code",
   "execution_count": null,
   "metadata": {},
   "outputs": [],
   "source": [
    "import time\n",
    "\n",
    "from bs4 import BeautifulSoup\n",
    "import lxml\n",
    "import pandas\n",
    "import requests"
   ]
  },
  {
   "cell_type": "code",
   "execution_count": null,
   "metadata": {},
   "outputs": [],
   "source": [
    "URL = \"https://openphish.com\"\n",
    "CSV_NAME = \"openphish.csv\""
   ]
  },
  {
   "cell_type": "code",
   "execution_count": null,
   "metadata": {},
   "outputs": [],
   "source": []
  },
  {
   "cell_type": "code",
   "execution_count": null,
   "metadata": {},
   "outputs": [],
   "source": [
    "def get_response_data():\n",
    "    response = requests.get(URL)\n",
    "    return response.content"
   ]
  },
  {
   "cell_type": "code",
   "execution_count": null,
   "metadata": {},
   "outputs": [],
   "source": [
    "def get_soup(site_content):\n",
    "    return BeautifulSoup(site_content)"
   ]
  },
  {
   "cell_type": "code",
   "execution_count": null,
   "metadata": {},
   "outputs": [],
   "source": [
    "def get_table(soup):\n",
    "    return soup.find(\"table\", {\"class\": \"pure-table pure-table-striped\"})"
   ]
  },
  {
   "cell_type": "code",
   "execution_count": null,
   "metadata": {},
   "outputs": [],
   "source": [
    "def get_rows(table):\n",
    "    return table.tbody.find_all(\"tr\")"
   ]
  },
  {
   "cell_type": "code",
   "execution_count": null,
   "metadata": {},
   "outputs": [],
   "source": [
    "def get_cells(rows):\n",
    "    return [f\"{el[0].text};{el[1].text};{el[2].text}\" \n",
    "            for el in [row.find_all(\"td\") for row in rows]]"
   ]
  },
  {
   "cell_type": "code",
   "execution_count": null,
   "metadata": {},
   "outputs": [],
   "source": [
    "def write_to_csv(data):\n",
    "    with open(CSV_NAME, 'a', encoding=\"UTF-8\") as f:\n",
    "        f.writelines([f\"{row}\\n\" for row in data])"
   ]
  },
  {
   "cell_type": "code",
   "execution_count": null,
   "metadata": {},
   "outputs": [],
   "source": [
    "def read_from_csv():\n",
    "    with open(CSV_NAME, \"r\", encoding=\"UTF-8\") as f:\n",
    "        raw_data = f.readlines()\n",
    "    return [row.replace('\\n', '') for row in raw_data]"
   ]
  },
  {
   "cell_type": "code",
   "execution_count": null,
   "metadata": {},
   "outputs": [],
   "source": []
  },
  {
   "cell_type": "code",
   "execution_count": null,
   "metadata": {},
   "outputs": [],
   "source": [
    "def get_sleep_secs(mins):\n",
    "    return mins * 60"
   ]
  },
  {
   "cell_type": "code",
   "execution_count": null,
   "metadata": {},
   "outputs": [],
   "source": [
    "def get_sleeps_amount(total, sleep):\n",
    "    return total // sleep + 1"
   ]
  },
  {
   "cell_type": "code",
   "execution_count": null,
   "metadata": {},
   "outputs": [],
   "source": [
    "def get_delta_data(old_data, new_data):\n",
    "    delta_data = []\n",
    "    for el in new_data:\n",
    "        if el not in old_data:\n",
    "            delta_data.append(el)\n",
    "    \n",
    "    return delta_data"
   ]
  },
  {
   "cell_type": "code",
   "execution_count": null,
   "metadata": {},
   "outputs": [],
   "source": []
  },
  {
   "cell_type": "code",
   "execution_count": null,
   "metadata": {},
   "outputs": [],
   "source": [
    "def get_new_data():\n",
    "    response = get_response_data()\n",
    "    soup = get_soup(response)\n",
    "    table = get_table(soup)\n",
    "    rows = get_rows(table)\n",
    "    new_data = list(reversed(get_cells(rows)))\n",
    "    return new_data"
   ]
  },
  {
   "cell_type": "code",
   "execution_count": null,
   "metadata": {},
   "outputs": [],
   "source": [
    "TOTAL = 60\n",
    "DELTA = 5\n",
    "\n",
    "SLEEP = get_sleep_secs(DELTA)\n",
    "AMOUNT = get_sleeps_amount(TOTAL, DELTA)"
   ]
  },
  {
   "cell_type": "code",
   "execution_count": null,
   "metadata": {},
   "outputs": [],
   "source": [
    "def sleep(secs):\n",
    "    time.sleep(secs)"
   ]
  },
  {
   "cell_type": "code",
   "execution_count": null,
   "metadata": {},
   "outputs": [],
   "source": [
    "def processing():\n",
    "    try:\n",
    "        old_data = read_from_csv()\n",
    "    except FileNotFoundError:\n",
    "        old_data = []\n",
    "    new_data = get_new_data()\n",
    "    delta = get_delta_data(old_data, new_data)\n",
    "    write_to_csv(delta)"
   ]
  },
  {
   "cell_type": "code",
   "execution_count": null,
   "metadata": {},
   "outputs": [],
   "source": [
    "print(\"Started:\", time.asctime(time.gmtime()))\n",
    "\n",
    "for _ in range(AMOUNT):\n",
    "    processing()\n",
    "    sleep(SLEEP)\n",
    "    \n",
    "print(\"Finished:\", time.asctime(time.gmtime()))"
   ]
  },
  {
   "cell_type": "code",
   "execution_count": null,
   "metadata": {},
   "outputs": [],
   "source": [
    "def get_unique_urls():\n",
    "    data = read_from_csv()\n",
    "    urls = [el.split(\";\")[0] for el in data]\n",
    "    return len(set(urls))"
   ]
  },
  {
   "cell_type": "code",
   "execution_count": null,
   "metadata": {},
   "outputs": [],
   "source": [
    "from collections import Counter\n",
    "\n",
    "def get_top_companies():\n",
    "    data = read_from_csv()\n",
    "    companies = [el.split(\";\")[1] for el in data]\n",
    "    counter = Counter(companies)\n",
    "    top_3 = counter.most_common(4)\n",
    "    return [f\"{el[0]} - {el[1]}\" for el in top_3]"
   ]
  },
  {
   "cell_type": "code",
   "execution_count": null,
   "metadata": {},
   "outputs": [],
   "source": [
    "print (\"Unique urls: \", get_unique_urls())"
   ]
  },
  {
   "cell_type": "code",
   "execution_count": null,
   "metadata": {},
   "outputs": [],
   "source": [
    "print(get_top_companies())"
   ]
  }
 ],
 "metadata": {
  "kernelspec": {
   "display_name": "venv",
   "language": "python",
   "name": "python3"
  },
  "language_info": {
   "codemirror_mode": {
    "name": "ipython",
    "version": 3
   },
   "file_extension": ".py",
   "mimetype": "text/x-python",
   "name": "python",
   "nbconvert_exporter": "python",
   "pygments_lexer": "ipython3",
   "version": "3.9.6"
  },
  "orig_nbformat": 4,
  "vscode": {
   "interpreter": {
    "hash": "516acc1054ef5c4684bc1b539150623b505147ff26b56c38f23796edb0b94fa1"
   }
  }
 },
 "nbformat": 4,
 "nbformat_minor": 2
}
